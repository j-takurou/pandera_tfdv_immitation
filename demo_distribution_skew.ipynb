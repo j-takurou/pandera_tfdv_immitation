{
 "cells": [
  {
   "cell_type": "markdown",
   "id": "7c6257e0-3ca0-4975-9e26-9a4bb4a6b28e",
   "metadata": {},
   "source": [
    "# 分布の歪みに対する検知をpanderaで実演するnotebook\n",
    "\n",
    "TFDVのtutorialのサンプルデータを利用して、TFDVの分布の歪み/変化(distribution skew)検知するアルゴリズムをpanderaで模倣します\n",
    "\n",
    "### 想定されるシチュエーション\n",
    "\n",
    "- モデルをデプロイし、再学習するにあたり、特徴量の分布が変化してくる"
   ]
  },
  {
   "cell_type": "code",
   "execution_count": 111,
   "id": "3adf8193-edd8-4b64-a790-6ce914d352e2",
   "metadata": {},
   "outputs": [
    {
     "name": "stdout",
     "output_type": "stream",
     "text": [
      "Here's what we downloaded:\n",
      "\u001b[34meval\u001b[m\u001b[m    \u001b[34mserving\u001b[m\u001b[m \u001b[34mtrain\u001b[m\u001b[m\n",
      "\n",
      "./data/eval:\n",
      "data.csv\n",
      "\n",
      "./data/serving:\n",
      "data.csv\n",
      "\n",
      "./data/train:\n",
      "data.csv\n"
     ]
    }
   ],
   "source": [
    "import os\n",
    "import pandas as pd\n",
    "import tempfile, urllib, zipfile\n",
    "\n",
    "# Set up some globals for our file paths\n",
    "BASE_DIR = \"./\"\n",
    "DATA_DIR = os.path.join(BASE_DIR, 'data')\n",
    "OUTPUT_DIR = os.path.join(BASE_DIR, 'chicago_taxi_output')\n",
    "TRAIN_DATA = os.path.join(DATA_DIR, 'train', 'data.csv')\n",
    "EVAL_DATA = os.path.join(DATA_DIR, 'eval', 'data.csv')\n",
    "SERVING_DATA = os.path.join(DATA_DIR, 'serving', 'data.csv')\n",
    "\n",
    "# Download the zip file from GCP and unzip it\n",
    "zip, headers = urllib.request.urlretrieve('https://storage.googleapis.com/artifacts.tfx-oss-public.appspot.com/datasets/chicago_data.zip')\n",
    "zipfile.ZipFile(zip).extractall(BASE_DIR)\n",
    "zipfile.ZipFile(zip).close()\n",
    "\n",
    "print(\"Here's what we downloaded:\")\n",
    "!ls -R {os.path.join(BASE_DIR, 'data')}"
   ]
  },
  {
   "cell_type": "code",
   "execution_count": 112,
   "id": "1f21fbc1-f309-444a-bb60-c59b2895eec2",
   "metadata": {},
   "outputs": [],
   "source": [
    "train = pd.read_csv(TRAIN_DATA)\n",
    "train.head()\n",
    "\n",
    "test = pd.read_csv(EVAL_DATA)"
   ]
  },
  {
   "cell_type": "code",
   "execution_count": 113,
   "id": "acaa27d1-8f77-409e-83e4-4dd017bc23bc",
   "metadata": {},
   "outputs": [
    {
     "data": {
      "text/html": [
       "<div>\n",
       "<style scoped>\n",
       "    .dataframe tbody tr th:only-of-type {\n",
       "        vertical-align: middle;\n",
       "    }\n",
       "\n",
       "    .dataframe tbody tr th {\n",
       "        vertical-align: top;\n",
       "    }\n",
       "\n",
       "    .dataframe thead th {\n",
       "        text-align: right;\n",
       "    }\n",
       "</style>\n",
       "<table border=\"1\" class=\"dataframe\">\n",
       "  <thead>\n",
       "    <tr style=\"text-align: right;\">\n",
       "      <th></th>\n",
       "      <th>pickup_community_area</th>\n",
       "      <th>fare</th>\n",
       "      <th>trip_start_month</th>\n",
       "      <th>trip_start_hour</th>\n",
       "      <th>trip_start_day</th>\n",
       "      <th>trip_start_timestamp</th>\n",
       "      <th>pickup_latitude</th>\n",
       "      <th>pickup_longitude</th>\n",
       "      <th>dropoff_latitude</th>\n",
       "      <th>dropoff_longitude</th>\n",
       "      <th>trip_miles</th>\n",
       "      <th>pickup_census_tract</th>\n",
       "      <th>dropoff_census_tract</th>\n",
       "      <th>payment_type</th>\n",
       "      <th>company</th>\n",
       "      <th>trip_seconds</th>\n",
       "      <th>dropoff_community_area</th>\n",
       "      <th>tips</th>\n",
       "    </tr>\n",
       "  </thead>\n",
       "  <tbody>\n",
       "    <tr>\n",
       "      <th>0</th>\n",
       "      <td>22</td>\n",
       "      <td>12.85</td>\n",
       "      <td>3</td>\n",
       "      <td>11</td>\n",
       "      <td>7</td>\n",
       "      <td>1393673400</td>\n",
       "      <td>41.920452</td>\n",
       "      <td>-87.679955</td>\n",
       "      <td>41.877406</td>\n",
       "      <td>-87.621972</td>\n",
       "      <td>0.0</td>\n",
       "      <td>NaN</td>\n",
       "      <td>1.703132e+10</td>\n",
       "      <td>Cash</td>\n",
       "      <td>Taxi Affiliation Services</td>\n",
       "      <td>720</td>\n",
       "      <td>32.0</td>\n",
       "      <td>0.0</td>\n",
       "    </tr>\n",
       "    <tr>\n",
       "      <th>1</th>\n",
       "      <td>22</td>\n",
       "      <td>5.45</td>\n",
       "      <td>8</td>\n",
       "      <td>21</td>\n",
       "      <td>7</td>\n",
       "      <td>1439675100</td>\n",
       "      <td>41.920452</td>\n",
       "      <td>-87.679955</td>\n",
       "      <td>41.906771</td>\n",
       "      <td>-87.681025</td>\n",
       "      <td>1.2</td>\n",
       "      <td>NaN</td>\n",
       "      <td>1.703124e+10</td>\n",
       "      <td>Cash</td>\n",
       "      <td>Dispatch Taxi Affiliation</td>\n",
       "      <td>360</td>\n",
       "      <td>24.0</td>\n",
       "      <td>0.0</td>\n",
       "    </tr>\n",
       "    <tr>\n",
       "      <th>2</th>\n",
       "      <td>33</td>\n",
       "      <td>0.00</td>\n",
       "      <td>5</td>\n",
       "      <td>10</td>\n",
       "      <td>4</td>\n",
       "      <td>1432118700</td>\n",
       "      <td>41.849247</td>\n",
       "      <td>-87.624135</td>\n",
       "      <td>41.849247</td>\n",
       "      <td>-87.624135</td>\n",
       "      <td>0.0</td>\n",
       "      <td>NaN</td>\n",
       "      <td>1.703184e+10</td>\n",
       "      <td>Cash</td>\n",
       "      <td>Northwest Management LLC</td>\n",
       "      <td>0</td>\n",
       "      <td>33.0</td>\n",
       "      <td>0.0</td>\n",
       "    </tr>\n",
       "    <tr>\n",
       "      <th>3</th>\n",
       "      <td>33</td>\n",
       "      <td>11.05</td>\n",
       "      <td>3</td>\n",
       "      <td>15</td>\n",
       "      <td>1</td>\n",
       "      <td>1427037300</td>\n",
       "      <td>41.849247</td>\n",
       "      <td>-87.624135</td>\n",
       "      <td>41.892508</td>\n",
       "      <td>-87.626215</td>\n",
       "      <td>0.0</td>\n",
       "      <td>NaN</td>\n",
       "      <td>1.703108e+10</td>\n",
       "      <td>Cash</td>\n",
       "      <td>Taxi Affiliation Services</td>\n",
       "      <td>900</td>\n",
       "      <td>8.0</td>\n",
       "      <td>0.0</td>\n",
       "    </tr>\n",
       "    <tr>\n",
       "      <th>4</th>\n",
       "      <td>33</td>\n",
       "      <td>11.05</td>\n",
       "      <td>5</td>\n",
       "      <td>15</td>\n",
       "      <td>6</td>\n",
       "      <td>1401464700</td>\n",
       "      <td>41.849247</td>\n",
       "      <td>-87.624135</td>\n",
       "      <td>41.892508</td>\n",
       "      <td>-87.626215</td>\n",
       "      <td>3.2</td>\n",
       "      <td>NaN</td>\n",
       "      <td>1.703108e+10</td>\n",
       "      <td>Cash</td>\n",
       "      <td>NaN</td>\n",
       "      <td>960</td>\n",
       "      <td>8.0</td>\n",
       "      <td>0.0</td>\n",
       "    </tr>\n",
       "  </tbody>\n",
       "</table>\n",
       "</div>"
      ],
      "text/plain": [
       "   pickup_community_area   fare  trip_start_month  trip_start_hour  \\\n",
       "0                     22  12.85                 3               11   \n",
       "1                     22   5.45                 8               21   \n",
       "2                     33   0.00                 5               10   \n",
       "3                     33  11.05                 3               15   \n",
       "4                     33  11.05                 5               15   \n",
       "\n",
       "   trip_start_day  trip_start_timestamp  pickup_latitude  pickup_longitude  \\\n",
       "0               7            1393673400        41.920452        -87.679955   \n",
       "1               7            1439675100        41.920452        -87.679955   \n",
       "2               4            1432118700        41.849247        -87.624135   \n",
       "3               1            1427037300        41.849247        -87.624135   \n",
       "4               6            1401464700        41.849247        -87.624135   \n",
       "\n",
       "   dropoff_latitude  dropoff_longitude  trip_miles  pickup_census_tract  \\\n",
       "0         41.877406         -87.621972         0.0                  NaN   \n",
       "1         41.906771         -87.681025         1.2                  NaN   \n",
       "2         41.849247         -87.624135         0.0                  NaN   \n",
       "3         41.892508         -87.626215         0.0                  NaN   \n",
       "4         41.892508         -87.626215         3.2                  NaN   \n",
       "\n",
       "   dropoff_census_tract payment_type                    company  trip_seconds  \\\n",
       "0          1.703132e+10         Cash  Taxi Affiliation Services           720   \n",
       "1          1.703124e+10         Cash  Dispatch Taxi Affiliation           360   \n",
       "2          1.703184e+10         Cash   Northwest Management LLC             0   \n",
       "3          1.703108e+10         Cash  Taxi Affiliation Services           900   \n",
       "4          1.703108e+10         Cash                        NaN           960   \n",
       "\n",
       "   dropoff_community_area  tips  \n",
       "0                    32.0   0.0  \n",
       "1                    24.0   0.0  \n",
       "2                    33.0   0.0  \n",
       "3                     8.0   0.0  \n",
       "4                     8.0   0.0  "
      ]
     },
     "execution_count": 113,
     "metadata": {},
     "output_type": "execute_result"
    }
   ],
   "source": [
    "train.head()"
   ]
  },
  {
   "cell_type": "markdown",
   "id": "4c852d36-6236-4294-99d7-a8757ff1ada5",
   "metadata": {
    "tags": []
   },
   "source": [
    "\n",
    "### 数値変数に対する分布の歪み\n",
    "\n",
    "Tensorflow Data Validationを参考に、数値データに対する分布の歪みを検知するCheck methodを実装しました。\n",
    "\n",
    "Tensorflow Data Validationでは、「近似イエンセン-シャノン距離」をもとに検知しているので、合わせてみます。\n",
    "\n",
    "https://github.com/tensorflow/tfx/blob/master/docs/guide/tfdv.md#drift-detection"
   ]
  },
  {
   "cell_type": "code",
   "execution_count": 1,
   "id": "fb615e52-7529-4322-8e00-651d2ea9c894",
   "metadata": {},
   "outputs": [],
   "source": [
    "from typing import Optional\n",
    "from typing import Dict\n",
    "# import hypothesis\n",
    "import pandera.extensions as extensions\n",
    "import pandera.strategies as st\n",
    "\n",
    "from scipy.stats import gaussian_kde\n",
    "from scipy.spatial import distance\n",
    "\n",
    "import pandera as pa\n",
    "import numpy as np\n",
    "import pandas as pd\n",
    "import seaborn as sns"
   ]
  },
  {
   "cell_type": "code",
   "execution_count": 53,
   "id": "b607957e-fed0-4abe-94a1-1972d7edfb2c",
   "metadata": {},
   "outputs": [],
   "source": [
    "train[\"is_train\"] = 1\n",
    "test[\"is_train\"] = 0\n",
    "total_df = pd.concat([train, test]).reset_index(drop=False)"
   ]
  },
  {
   "cell_type": "code",
   "execution_count": 79,
   "id": "c6526b24-850d-412e-994f-9d2cbd5b20f7",
   "metadata": {},
   "outputs": [
    {
     "data": {
      "text/plain": [
       "<seaborn.axisgrid.FacetGrid at 0x15427e430>"
      ]
     },
     "execution_count": 79,
     "metadata": {},
     "output_type": "execute_result"
    },
    {
     "data": {
      "image/png": "[encoded data removed]",
      "text/plain": [
       "<Figure size 404.5x360 with 1 Axes>"
      ]
     },
     "metadata": {
      "needs_background": "light"
     },
     "output_type": "display_data"
    }
   ],
   "source": [
    "sns.displot(data=total_df.sample(n=1000), x=\"fare\", hue=\"is_train\", kind=\"kde\")"
   ]
  },
  {
   "cell_type": "markdown",
   "id": "73923c7a-b81a-4558-ac66-40e33fa47282",
   "metadata": {},
   "source": [
    "## カスタマイズしたCheck関数の登録方法\n",
    "- `extensions.register_check_method` decoratorを利用すると、自作したCheckメソッドがpandera.Checkクラスのclassmethodとして呼び出されるようになります\n",
    "- "
   ]
  },
  {
   "cell_type": "code",
   "execution_count": 2,
   "id": "7d3a4f95-ad1b-424f-932f-6752ba2147c4",
   "metadata": {},
   "outputs": [],
   "source": [
    "@extensions.register_check_method(\n",
    "    statistics=[\"group_train\", \"group_test\"],\n",
    "    check_type=\"groupby\",\n",
    ")\n",
    "def test_js_dist(dict_groups: Dict[str, pd.Series], *, group_train, group_test, threshold=0.2):\n",
    "    a: pd.Series = dict_groups[group_train]\n",
    "    b: pd.Series = dict_groups[group_test]\n",
    "    # 定義域の設定\n",
    "    range_x = np.linspace(\n",
    "        start=min(a.min(), b.min()), \n",
    "        stop=max(a.max(), b.max()), num=500\n",
    "    )\n",
    "    # 対象変数に関して、密度関数をkernel密度推定します\n",
    "    a_pdf = gaussian_kde(a)\n",
    "    b_pdf = gaussian_kde(b)\n",
    "    # 2つの分布の距離を計算して\n",
    "    stat = distance.jensenshannon(a_pdf(range_x), b_pdf(range_x), 2.0)\n",
    "    print(\"Jensen-Shannon Distance: \", stat)\n",
    "    # 閾値以上に距離が大きくなったら、Falseとなり、検知されます。\n",
    "    return stat <= threshold\n",
    "\n",
    "    return dict_groups[group_a].mean() > dict_groups[group_b].mean()\n",
    "\n"
   ]
  },
  {
   "cell_type": "code",
   "execution_count": 72,
   "id": "9d898c8f-48f2-41ac-be25-7d7d61919d5b",
   "metadata": {},
   "outputs": [
    {
     "name": "stdout",
     "output_type": "stream",
     "text": [
      "Jensen-Shannon Distance:  0.015027889345758624\n",
      "A total of 1 schema errors were found.\n",
      "\n",
      "Error Counts\n",
      "------------\n",
      "- schema_component_check: 1\n",
      "\n",
      "Schema Error Summary\n",
      "--------------------\n",
      "                                                          failure_cases  n_failure_cases\n",
      "schema_context column          check                                                    \n",
      "Column         trip_start_hour Jensen距離の意味で分布が異なっているようです。       [False]                1\n",
      "\n",
      "Usage Tip\n",
      "---------\n",
      "\n",
      "Directly inspect all errors by catching the exception:\n",
      "\n",
      "```\n",
      "try:\n",
      "    schema.validate(dataframe, lazy=True)\n",
      "except SchemaErrors as err:\n",
      "    err.failure_cases  # dataframe of schema errors\n",
      "    err.data  # invalid dataframe\n",
      "```\n",
      "\n"
     ]
    }
   ],
   "source": [
    "from typing import Dict\n",
    "\n",
    "schema = pa.DataFrameSchema({\n",
    "    \"trip_start_hour\": pa.Column(\n",
    "        int,\n",
    "        pa.Check.test_js_dist(group_train=1, \n",
    "                              group_test=0, \n",
    "                              threshold=0.01 ,\n",
    "                              groupby=\"is_train\", error=\"Jensen距離の意味で分布が異なっているようです。\"),\n",
    "    ),\n",
    "    \"is_train\": pa.Column(int),\n",
    "})\n",
    "\n",
    "try:\n",
    "    schema(total_df, lazy=True)\n",
    "    # inferred_schema.validate(test, lazy=True)\n",
    "except pa.errors.SchemaErrors as err:\n",
    "    print(err)\n"
   ]
  },
  {
   "cell_type": "code",
   "execution_count": 67,
   "id": "da94644a-7988-41ca-9ca3-37d53760a27a",
   "metadata": {},
   "outputs": [
    {
     "name": "stdout",
     "output_type": "stream",
     "text": [
      "Jensen-Shannon Distance:  0.8889696575267366\n",
      "A total of 1 schema errors were found.\n",
      "\n",
      "Error Counts\n",
      "------------\n",
      "- schema_component_check: 1\n",
      "\n",
      "Schema Error Summary\n",
      "--------------------\n",
      "                                                 failure_cases  n_failure_cases\n",
      "schema_context column check                                                    \n",
      "Column         values Jensen距離の意味で分布が異なっているようです。       [False]                1\n",
      "\n",
      "Usage Tip\n",
      "---------\n",
      "\n",
      "Directly inspect all errors by catching the exception:\n",
      "\n",
      "```\n",
      "try:\n",
      "    schema.validate(dataframe, lazy=True)\n",
      "except SchemaErrors as err:\n",
      "    err.failure_cases  # dataframe of schema errors\n",
      "    err.data  # invalid dataframe\n",
      "```\n",
      "\n"
     ]
    }
   ],
   "source": [
    "sample_data = pd.DataFrame({\n",
    "    \"values\": [1, 1, 1, 1, 2, 1, 20, 10, 1, 15],\n",
    "    \"is_train\": [0] * 5 + [1] * 5,\n",
    "    \n",
    "})\n",
    "\n",
    "\n",
    "schema = pa.DataFrameSchema({\n",
    "    \"values\": pa.Column(\n",
    "        int,\n",
    "        pa.Check.test_js_dist(group_train=1, group_test=0, groupby=\"is_train\", error=\"Jensen距離の意味で分布が異なっているようです。\"),\n",
    "    ),\n",
    "    \"is_train\": pa.Column(int),\n",
    "})\n",
    "\n",
    "try:\n",
    "    schema(sample_data, lazy=True)\n",
    "    # inferred_schema.validate(test, lazy=True)\n",
    "except pa.errors.SchemaErrors as err:\n",
    "    print(err)\n"
   ]
  },
  {
   "cell_type": "markdown",
   "id": "62011ded-56d7-454f-81b5-fc29d4c9d665",
   "metadata": {},
   "source": [
    "実際にデータ見てみると、、"
   ]
  },
  {
   "cell_type": "code",
   "execution_count": 75,
   "id": "ef4433f1-ff01-4290-a584-92a4bb693fab",
   "metadata": {},
   "outputs": [
    {
     "data": {
      "text/plain": [
       "<seaborn.axisgrid.FacetGrid at 0x153db2ca0>"
      ]
     },
     "execution_count": 75,
     "metadata": {},
     "output_type": "execute_result"
    },
    {
     "data": {
      "image/png": "[encoded data removed]",
      "text/plain": [
       "<Figure size 404.5x360 with 1 Axes>"
      ]
     },
     "metadata": {
      "needs_background": "light"
     },
     "output_type": "display_data"
    }
   ],
   "source": [
    "sns.displot(data=data, x=\"values\", hue=\"is_train\", kind=\"kde\")"
   ]
  },
  {
   "cell_type": "markdown",
   "id": "197e2816-e16b-4972-8970-11547f1ae27f",
   "metadata": {},
   "source": [
    "変なデータがtestデータに入っているのがわかりました！"
   ]
  },
  {
   "cell_type": "code",
   "execution_count": 67,
   "id": "b6811493-c6db-4de8-9e71-bfd6e98b8778",
   "metadata": {},
   "outputs": [],
   "source": []
  },
  {
   "cell_type": "markdown",
   "id": "008a4e9c-4c2f-4b6c-aa3c-7707c3f711be",
   "metadata": {},
   "source": [
    "### カテゴリ変数に対する分布の歪み\n",
    "\n",
    "同じく、Tensorflow Data Validationを参考に、カテゴリデータに対する分布の歪みを検知するCheck methodを実装しました。\n",
    "\n",
    "Tensorflow Data Validationでは、「L-infinity distance」をもとに検知しているので、合わせてみます。\n",
    "\n",
    "`L-infinity distance`と言いますが、要は同じカテゴリの割合の差分の絶対値の最大値を計算しています。\n",
    "\n",
    "- $\\displaystyle \\max_i |x_i - y_i|$\n"
   ]
  },
  {
   "cell_type": "code",
   "execution_count": 29,
   "id": "076f0f5d-2841-47d5-a294-e1f9c2fad4cb",
   "metadata": {},
   "outputs": [
    {
     "data": {
      "text/html": [
       "<div>\n",
       "<style scoped>\n",
       "    .dataframe tbody tr th:only-of-type {\n",
       "        vertical-align: middle;\n",
       "    }\n",
       "\n",
       "    .dataframe tbody tr th {\n",
       "        vertical-align: top;\n",
       "    }\n",
       "\n",
       "    .dataframe thead th {\n",
       "        text-align: right;\n",
       "    }\n",
       "</style>\n",
       "<table border=\"1\" class=\"dataframe\">\n",
       "  <thead>\n",
       "    <tr style=\"text-align: right;\">\n",
       "      <th></th>\n",
       "      <th>hoge</th>\n",
       "      <th>payment_type</th>\n",
       "    </tr>\n",
       "  </thead>\n",
       "  <tbody>\n",
       "    <tr>\n",
       "      <th>Cash</th>\n",
       "      <td>0.6590</td>\n",
       "      <td>0.6638</td>\n",
       "    </tr>\n",
       "    <tr>\n",
       "      <th>Credit Card</th>\n",
       "      <td>0.3325</td>\n",
       "      <td>0.3298</td>\n",
       "    </tr>\n",
       "    <tr>\n",
       "      <th>No Charge</th>\n",
       "      <td>0.0060</td>\n",
       "      <td>0.0042</td>\n",
       "    </tr>\n",
       "    <tr>\n",
       "      <th>Unknown</th>\n",
       "      <td>0.0022</td>\n",
       "      <td>0.0012</td>\n",
       "    </tr>\n",
       "    <tr>\n",
       "      <th>Pcard</th>\n",
       "      <td>0.0002</td>\n",
       "      <td>0.0002</td>\n",
       "    </tr>\n",
       "    <tr>\n",
       "      <th>Dispute</th>\n",
       "      <td>0.0001</td>\n",
       "      <td>0.0006</td>\n",
       "    </tr>\n",
       "    <tr>\n",
       "      <th>Prcard</th>\n",
       "      <td>NaN</td>\n",
       "      <td>0.0002</td>\n",
       "    </tr>\n",
       "  </tbody>\n",
       "</table>\n",
       "</div>"
      ],
      "text/plain": [
       "               hoge  payment_type\n",
       "Cash         0.6590        0.6638\n",
       "Credit Card  0.3325        0.3298\n",
       "No Charge    0.0060        0.0042\n",
       "Unknown      0.0022        0.0012\n",
       "Pcard        0.0002        0.0002\n",
       "Dispute      0.0001        0.0006\n",
       "Prcard          NaN        0.0002"
      ]
     },
     "execution_count": 29,
     "metadata": {},
     "output_type": "execute_result"
    }
   ],
   "source": [
    "pd.concat(\n",
    "    [train[\"payment_type\"].value_counts(normalize=True), \n",
    "     test[\"payment_type\"].value_counts(normalize=True)], axis=1)"
   ]
  },
  {
   "cell_type": "code",
   "execution_count": 97,
   "id": "b0746b2a-d8b9-4c71-a018-75cf0e3a540e",
   "metadata": {},
   "outputs": [],
   "source": []
  },
  {
   "cell_type": "code",
   "execution_count": null,
   "id": "3d3021c6-4bd2-412b-8be6-77bbefe2347b",
   "metadata": {},
   "outputs": [],
   "source": []
  },
  {
   "cell_type": "code",
   "execution_count": 36,
   "id": "81a6e3a9-72d7-49eb-b59a-7b1c38d4eb18",
   "metadata": {},
   "outputs": [
    {
     "data": {
      "text/plain": [
       "Cash          -0.0048\n",
       "Credit Card    0.0027\n",
       "Dispute       -0.0005\n",
       "No Charge      0.0018\n",
       "Pcard          0.0000\n",
       "Prcard            NaN\n",
       "Unknown        0.0010\n",
       "dtype: float64"
      ]
     },
     "execution_count": 36,
     "metadata": {},
     "output_type": "execute_result"
    }
   ],
   "source": [
    "# かなりコード汚いですが、各カテゴリがどれくらいデータセットに含まれているかの割合の差分を計算しています。\n",
    "train[\"payment_type\"].value_counts(normalize=True) - test[\"payment_type\"].value_counts(normalize=True)"
   ]
  },
  {
   "cell_type": "code",
   "execution_count": 37,
   "id": "3f509b60-d646-412e-aa23-cafcc2896a75",
   "metadata": {},
   "outputs": [
    {
     "data": {
      "text/plain": [
       "0.0047999999999999154"
      ]
     },
     "execution_count": 37,
     "metadata": {},
     "output_type": "execute_result"
    }
   ],
   "source": [
    "# L-infinity distance\n",
    "max(abs(train[\"payment_type\"].value_counts(normalize=True) - test[\"payment_type\"].value_counts(normalize=True)))"
   ]
  },
  {
   "cell_type": "markdown",
   "id": "482c2ad3-becb-4d51-ad99-fa5041a4fdbb",
   "metadata": {},
   "source": [
    "上記の実装を踏まえて、カテゴリ変数の分布のskewをカスタムCheckしてみます。"
   ]
  },
  {
   "cell_type": "code",
   "execution_count": 46,
   "id": "44698a13-c359-44f1-b9ac-4eaa53e06b94",
   "metadata": {},
   "outputs": [],
   "source": [
    "\n",
    "@extensions.register_check_method(\n",
    "    statistics=[\"group_train\", \"group_test\"],\n",
    "    check_type=\"groupby\",\n",
    ")\n",
    "def check_L_inf_distance(dict_groups: Dict[str, pd.Series], *, group_train, group_test, threshold=0.2):\n",
    "\n",
    "    train: pd.Series = dict_groups[group_train]\n",
    "    test: pd.Series = dict_groups[group_test]\n",
    "    abs_value_diff: pd.Series = train.value_counts(normalize=True) - test.value_counts(normalize=True)\n",
    "    dist = abs_value_diff.abs().max()\n",
    "    print(\"L-infinity distance: \", dist)\n",
    "    # 閾値以上に距離が大きくなったら、Falseとなり、検知されます。\n",
    "    return dist <= threshold\n",
    "\n",
    "\n"
   ]
  },
  {
   "cell_type": "code",
   "execution_count": null,
   "id": "3ae074c9-e8c4-4a69-b0c8-f33604cc1d80",
   "metadata": {},
   "outputs": [],
   "source": []
  },
  {
   "cell_type": "code",
   "execution_count": 47,
   "id": "b76edbc4-a8ed-4066-ae9e-b77b9d6774bf",
   "metadata": {},
   "outputs": [
    {
     "name": "stdout",
     "output_type": "stream",
     "text": [
      "L-infinity distance:  0.0047999999999999154\n"
     ]
    }
   ],
   "source": [
    "schema = pa.DataFrameSchema({\n",
    "    \"payment_type\": pa.Column(\n",
    "        str,\n",
    "        pa.Check.check_L_inf_distance(\n",
    "            group_train=1, group_test=0,\n",
    "            groupby=\"is_train\",\n",
    "            error=\"L-infinity 距離の意味で分布が異なっているようです。\"),\n",
    "    ),\n",
    "    \"is_train\": pa.Column(int),\n",
    "})\n",
    "\n",
    "try:\n",
    "    schema(total_df, lazy=True)\n",
    "except pa.errors.SchemaErrors as err:\n",
    "    print(err)\n"
   ]
  },
  {
   "cell_type": "code",
   "execution_count": 102,
   "id": "72856b41-cce0-47f6-b04a-6f75ac2693e4",
   "metadata": {},
   "outputs": [
    {
     "data": {
      "text/plain": [
       "<AxesSubplot:xlabel='payment_type', ylabel='index'>"
      ]
     },
     "execution_count": 102,
     "metadata": {},
     "output_type": "execute_result"
    },
    {
     "data": {
      "image/png": "[encoded data removed]",
      "text/plain": [
       "<Figure size 432x288 with 1 Axes>"
      ]
     },
     "metadata": {
      "needs_background": "light"
     },
     "output_type": "display_data"
    }
   ],
   "source": [
    "category_share = total_df.groupby([\"is_train\", \"payment_type\"]).count().divide(total_df.groupby([\"is_train\"]).count())[\"index\"]\n",
    "sns.barplot(\n",
    "    data=category_share.reset_index(),\n",
    "    x=\"payment_type\",\n",
    "    y=\"index\",\n",
    "    hue=\"is_train\"\n",
    ")"
   ]
  },
  {
   "cell_type": "markdown",
   "id": "51b05145-adb6-42f3-aef8-96c97afe5b7e",
   "metadata": {},
   "source": [
    "想定した閾値よりは分布の違いはなさそうなので、検知はされませんでしたね！"
   ]
  },
  {
   "cell_type": "markdown",
   "id": "e5cf5d17-9338-4cfa-b1b6-79324c086022",
   "metadata": {},
   "source": [
    "\n",
    "### 分布の変化に対しても、TFDV同様に、Validationを検知することができたと思います！\n",
    "\n",
    "### 結局検知できるかどうかは、設定した閾値次第...\n",
    "\n",
    "どう設定するのかはほんとに悩ましい問題ですが、本家？のTensorflowも、ここの閾値設定に関して「ドメイン知識を活用しましょう^^」とあるので、golden ruleはないよね、、という話でした。\n",
    "\n"
   ]
  },
  {
   "cell_type": "code",
   "execution_count": 109,
   "id": "734e113d-52ee-410e-af7b-52a6cbb23405",
   "metadata": {},
   "outputs": [
    {
     "data": {
      "text/plain": [
       "<AxesSubplot:xlabel='type', ylabel='share'>"
      ]
     },
     "execution_count": 109,
     "metadata": {},
     "output_type": "execute_result"
    },
    {
     "data": {
      "image/png": "[encoded data removed]",
      "text/plain": [
       "<Figure size 432x288 with 1 Axes>"
      ]
     },
     "metadata": {
      "needs_background": "light"
     },
     "output_type": "display_data"
    }
   ],
   "source": [
    "train = pd.DataFrame({\"type\":[\"cash\", \"paypay\"], \"share\":[50, 25], \"is_train\":[1, 1]})\n",
    "test = pd.DataFrame({\"type\":[\"cash\", \"paypay\"], \"share\":[43, 12], \"is_train\":[0, 0]})\n",
    "\n",
    "sns.barplot(\n",
    "    data=pd.concat([train, test], axis=0),\n",
    "    x=\"type\",\n",
    "    y=\"share\",\n",
    "    hue=\"is_train\"\n",
    ")\n"
   ]
  },
  {
   "cell_type": "code",
   "execution_count": null,
   "id": "0caf9f38-3fcc-4814-aec7-26500b31ef92",
   "metadata": {},
   "outputs": [],
   "source": []
  }
 ],
 "metadata": {
  "kernelspec": {
   "display_name": "Python 3 (ipykernel)",
   "language": "python",
   "name": "python3"
  },
  "language_info": {
   "codemirror_mode": {
    "name": "ipython",
    "version": 3
   },
   "file_extension": ".py",
   "mimetype": "text/x-python",
   "name": "python",
   "nbconvert_exporter": "python",
   "pygments_lexer": "ipython3",
   "version": "3.9.7"
  }
 },
 "nbformat": 4,
 "nbformat_minor": 5
}
