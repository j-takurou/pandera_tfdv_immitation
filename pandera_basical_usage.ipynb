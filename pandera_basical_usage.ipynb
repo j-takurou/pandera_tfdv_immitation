{
 "cells": [
  {
   "cell_type": "markdown",
   "id": "7297b4b8-11f9-482d-ba34-6f94d1c4ac36",
   "metadata": {},
   "source": [
    "# Pandera Basical Usage\n",
    "\n",
    "[「PyCon mini Shizuoka 2021」](https://pycon-shizu.connpass.com/event/228219/)で発表させていただいた際に利用したソースコードになります。"
   ]
  },
  {
   "cell_type": "code",
   "execution_count": 1,
   "id": "1031adcd",
   "metadata": {},
   "outputs": [],
   "source": [
    "import pandas as pd\n",
    "import numpy as np\n",
    "import pandera as pa\n",
    "from IPython.display import display\n",
    "import matplotlib\n",
    "import matplotlib.pyplot as plt\n",
    "import seaborn as sns"
   ]
  },
  {
   "cell_type": "markdown",
   "id": "6ad6571d-178e-4ced-97cf-ba57d23063ac",
   "metadata": {},
   "source": [
    "## 基本的な使い方"
   ]
  },
  {
   "cell_type": "code",
   "execution_count": 6,
   "id": "01455a42-466c-48ac-9880-5b10f6ff12dc",
   "metadata": {},
   "outputs": [
    {
     "data": {
      "text/html": [
       "<div>\n",
       "<style scoped>\n",
       "    .dataframe tbody tr th:only-of-type {\n",
       "        vertical-align: middle;\n",
       "    }\n",
       "\n",
       "    .dataframe tbody tr th {\n",
       "        vertical-align: top;\n",
       "    }\n",
       "\n",
       "    .dataframe thead th {\n",
       "        text-align: right;\n",
       "    }\n",
       "</style>\n",
       "<table border=\"1\" class=\"dataframe\">\n",
       "  <thead>\n",
       "    <tr style=\"text-align: right;\">\n",
       "      <th></th>\n",
       "      <th>column1</th>\n",
       "      <th>column2</th>\n",
       "      <th>column3</th>\n",
       "    </tr>\n",
       "  </thead>\n",
       "  <tbody>\n",
       "    <tr>\n",
       "      <th>0</th>\n",
       "      <td>1</td>\n",
       "      <td>-1.3</td>\n",
       "      <td>value_1</td>\n",
       "    </tr>\n",
       "    <tr>\n",
       "      <th>1</th>\n",
       "      <td>4</td>\n",
       "      <td>-2.1</td>\n",
       "      <td>value_2</td>\n",
       "    </tr>\n",
       "    <tr>\n",
       "      <th>2</th>\n",
       "      <td>0</td>\n",
       "      <td>-2.9</td>\n",
       "      <td>value_3</td>\n",
       "    </tr>\n",
       "    <tr>\n",
       "      <th>3</th>\n",
       "      <td>10</td>\n",
       "      <td>-10.1</td>\n",
       "      <td>value_4</td>\n",
       "    </tr>\n",
       "    <tr>\n",
       "      <th>4</th>\n",
       "      <td>9</td>\n",
       "      <td>-20.4</td>\n",
       "      <td>value_1115</td>\n",
       "    </tr>\n",
       "  </tbody>\n",
       "</table>\n",
       "</div>"
      ],
      "text/plain": [
       "   column1  column2     column3\n",
       "0        1     -1.3     value_1\n",
       "1        4     -2.1     value_2\n",
       "2        0     -2.9     value_3\n",
       "3       10    -10.1     value_4\n",
       "4        9    -20.4  value_1115"
      ]
     },
     "execution_count": 6,
     "metadata": {},
     "output_type": "execute_result"
    }
   ],
   "source": [
    "df = pd.DataFrame({\n",
    "    \"column1\": [1, 4, 0, 10, 9],\n",
    "    \"column2\": [-1.3, -2.1, -2.9, -10.1, -20.4],\n",
    "    \"column3\": [\"value_1\", \"value_2\", \"value_3\", \"value_4\", \"value_1115\"],\n",
    "})\n",
    "df"
   ]
  },
  {
   "cell_type": "code",
   "execution_count": 30,
   "id": "9f233b16",
   "metadata": {},
   "outputs": [
    {
     "name": "stdout",
     "output_type": "stream",
     "text": [
      "A total of 2 schema errors were found.\n",
      "\n",
      "Error Counts\n",
      "------------\n",
      "- schema_component_check: 2\n",
      "\n",
      "Schema Error Summary\n",
      "--------------------\n",
      "                                                    failure_cases  n_failure_cases\n",
      "schema_context column  check                                                      \n",
      "Column         column2 less_than(-2.0)                     [-1.3]                1\n",
      "               column3 Irregular format for column3  [value_1115]                1\n",
      "\n",
      "Usage Tip\n",
      "---------\n",
      "\n",
      "Directly inspect all errors by catching the exception:\n",
      "\n",
      "```\n",
      "try:\n",
      "    schema.validate(dataframe, lazy=True)\n",
      "except SchemaErrors as err:\n",
      "    err.failure_cases  # dataframe of schema errors\n",
      "    err.data  # invalid dataframe\n",
      "```\n",
      "\n"
     ]
    }
   ],
   "source": [
    "\n",
    "# define schema\n",
    "schema = pa.DataFrameSchema({\n",
    "    \"column1\": pa.Column(pa.Int), # Integer型\n",
    "    \"column2\": pa.Column(float, checks=pa.Check.lt(-2.0)), # -2.0より小さい値を取るfloat\n",
    "    \"column3\": pa.Column(str, checks=[\n",
    "        # \"value_\"から始まる string型で \"value_\\d{1,2}$\" と言う正規表現を満たす\n",
    "        pa.Check.str_startswith(\"value_\"),\n",
    "        # 対象カラムシリーズを引数に、boolean or boolean Seriesを出力するカスタム関数を設定することでCheckを自作できる\n",
    "        pa.Check(lambda s: s.str.match(pat=\"value_\\d{1,2}$\"), error=\"Irregular format for column3\"),\n",
    "    ]),\n",
    "},\n",
    "    index=pa.Index(pa.Int),\n",
    "    strict=True, # Schemaで定義したカラムが欠けている or 定義外のカラムが含まれている場合、DataFrameSchema　Errorを吐きます\n",
    "    coerce=True # 型をschemaに合わせる\n",
    ")\n",
    "\n",
    "\n",
    "try:\n",
    "    validated_df = schema(df, lazy=True)\n",
    "except pa.errors.SchemaErrors as err:\n",
    "    print(err)\n",
    "    errors = err\n"
   ]
  },
  {
   "cell_type": "markdown",
   "id": "4a1ac541-dbc3-4ba2-afb2-2d1dabb09954",
   "metadata": {},
   "source": [
    "- passするゆるゆるスキーマ\n",
    "    - 成功するとvalidateされたdfが返されます。\n",
    "    - DataFrameSchemaのcoerce引数をTrueに指定すると、指定した型に変換され返されます"
   ]
  },
  {
   "cell_type": "code",
   "execution_count": 31,
   "id": "1d43b34a",
   "metadata": {},
   "outputs": [
    {
     "data": {
      "text/html": [
       "<div>\n",
       "<style scoped>\n",
       "    .dataframe tbody tr th:only-of-type {\n",
       "        vertical-align: middle;\n",
       "    }\n",
       "\n",
       "    .dataframe tbody tr th {\n",
       "        vertical-align: top;\n",
       "    }\n",
       "\n",
       "    .dataframe thead th {\n",
       "        text-align: right;\n",
       "    }\n",
       "</style>\n",
       "<table border=\"1\" class=\"dataframe\">\n",
       "  <thead>\n",
       "    <tr style=\"text-align: right;\">\n",
       "      <th></th>\n",
       "      <th>column1</th>\n",
       "      <th>column2</th>\n",
       "      <th>column3</th>\n",
       "    </tr>\n",
       "  </thead>\n",
       "  <tbody>\n",
       "    <tr>\n",
       "      <th>0</th>\n",
       "      <td>1</td>\n",
       "      <td>-1.3</td>\n",
       "      <td>value_1</td>\n",
       "    </tr>\n",
       "    <tr>\n",
       "      <th>1</th>\n",
       "      <td>4</td>\n",
       "      <td>-2.1</td>\n",
       "      <td>value_2</td>\n",
       "    </tr>\n",
       "    <tr>\n",
       "      <th>2</th>\n",
       "      <td>0</td>\n",
       "      <td>-2.9</td>\n",
       "      <td>value_3</td>\n",
       "    </tr>\n",
       "    <tr>\n",
       "      <th>3</th>\n",
       "      <td>10</td>\n",
       "      <td>-10.1</td>\n",
       "      <td>value_4</td>\n",
       "    </tr>\n",
       "    <tr>\n",
       "      <th>4</th>\n",
       "      <td>9</td>\n",
       "      <td>-20.4</td>\n",
       "      <td>value_1115</td>\n",
       "    </tr>\n",
       "  </tbody>\n",
       "</table>\n",
       "</div>"
      ],
      "text/plain": [
       "   column1  column2     column3\n",
       "0        1     -1.3     value_1\n",
       "1        4     -2.1     value_2\n",
       "2        0     -2.9     value_3\n",
       "3       10    -10.1     value_4\n",
       "4        9    -20.4  value_1115"
      ]
     },
     "execution_count": 31,
     "metadata": {},
     "output_type": "execute_result"
    }
   ],
   "source": [
    "\n",
    "loose_schema = pa.DataFrameSchema({\n",
    "    \"column1\": pa.Column(int), # Integer型\n",
    "})\n",
    "\n",
    "try:\n",
    "    validated_df = loose_schema(df, lazy=True)\n",
    "except pa.errors.SchemaErrors as err:\n",
    "    print(err)\n",
    "    errors = err\n",
    "validated_df"
   ]
  },
  {
   "cell_type": "markdown",
   "id": "13de8abc-6b9a-4e92-950e-2726338fa505",
   "metadata": {},
   "source": [
    "## スキーマ保存機能\n",
    "\n",
    "to_script()はあるけど、from_script関数はないみたいです。うーむ。"
   ]
  },
  {
   "cell_type": "code",
   "execution_count": 32,
   "id": "06a1c9ec-8f5e-49aa-900f-79e157c1774b",
   "metadata": {},
   "outputs": [
    {
     "name": "stderr",
     "output_type": "stream",
     "text": [
      "/Users/takubojunpei/miniforge3/envs/finance/lib/python3.9/site-packages/pandera/schema_statistics.py:163: UserWarning: Only registered checks may be serialized to statistics. Did you forget to register it with the extension API? Check `<lambda>` will be skipped.\n",
      "  warnings.warn(\n"
     ]
    }
   ],
   "source": [
    "schema.to_yaml(\"sample_schema.yaml\")"
   ]
  },
  {
   "cell_type": "markdown",
   "id": "9edd94a8-4b38-432c-b881-f210fed533f3",
   "metadata": {},
   "source": [
    "- Warningが出ている様に、lambda関数で自作したcheckはskipされます。\n",
    "    - これを解決するためには、`@extensions.register_check_method`を利用してpa.Checkから呼び出せるカスタム関数にする必要があります。\n",
    "- 注: pythonの`int`クラスを型に利用すると、`value` propertyがないと言う、AttributionErrorが発生するので、\n",
    "pa.Intを型指定に利用しています。\n",
    "\n"
   ]
  },
  {
   "cell_type": "markdown",
   "id": "4ec2506a-e777-4fe8-b173-5e50525932e6",
   "metadata": {},
   "source": [
    "例えば、pa.Check.isin()で指定したパラメータもちゃんとyamlに記録されます。\n",
    "\n",
    "`sample_schema_with_parameter.yaml`を確認ください。"
   ]
  },
  {
   "cell_type": "code",
   "execution_count": 39,
   "id": "23abdcaa-fbe6-43d3-ab3f-ad2965a48029",
   "metadata": {},
   "outputs": [],
   "source": [
    "custom_elements = [1,2,3]\n",
    "loose_schema = pa.DataFrameSchema({\n",
    "    \"column1\": pa.Column(pa.Int, checks=[pa.Check.isin(custom_elements)]), # Integer型\n",
    "})\n",
    "loose_schema.to_yaml(\"sample_schema_with_parameter.yaml\")"
   ]
  },
  {
   "cell_type": "markdown",
   "id": "803a8bdb-642f-4657-99c9-bf23049ddb05",
   "metadata": {},
   "source": [
    "## Checkの使い方\n",
    "\n",
    "- その他、pandera.Checks.Checkの classmethodでvalidation関数がたくさん提供されています。"
   ]
  },
  {
   "cell_type": "code",
   "execution_count": 72,
   "id": "996d954e-9867-4f01-832b-0bbccdb15593",
   "metadata": {},
   "outputs": [],
   "source": [
    "from pandera import Column, DataFrameSchema, Check, Index\n",
    "\n",
    "strict_schema = DataFrameSchema(\n",
    "    {\n",
    "        \"column1\": Column(int, checks=[\n",
    "\n",
    "            # value == 1になっているか検証(以下のsampleでは、failureになる想定)\n",
    "            Check.equal_to(value=1), #  column1の全ての要素が1であるかチェックする\n",
    "            Check.eq(value=1), # alias for equal_to\n",
    "            # value != -999になっているか検証\n",
    "            Check.not_equal_to(value=-999),\n",
    "            Check.ne(value=-999), # alias for not_equal_to\n",
    "            \n",
    "            # value >= 0になっているか検証\n",
    "            Check.greater_than_or_equal_to(min_value=0),\n",
    "            Check.ge(min_value=0), # alias for greater_than_or_equal_to\n",
    "            \n",
    "            # value > 0になっているか検証\n",
    "            Check.greater_than(min_value=0),\n",
    "            Check.gt(min_value=0), # alias for greater_than\n",
    "            \n",
    "            # 10 >= value >= 0になっているか検証\n",
    "            Check.in_range(min_value=0, max_value=10), \n",
    "            \n",
    "            # value in {1,2,3,4} になっているか検証\n",
    "            Check.isin(allowed_values=[1,2,3,4])\n",
    "        ]),\n",
    "        \"column2\": Column(float, checks=[\n",
    "            # 下記のようにcustom check_fnを利用する場合のみ、error, name引数を設定できる。\n",
    "            Check(lambda s: s < -1.2,  \n",
    "                  error=\"values should be less than -1.2\",\n",
    "                  name=\"Customized less_than\"\n",
    "                 )\n",
    "        ]\n",
    "                         ),\n",
    "        # you can provide a list of validators\n",
    "        \"column3\": Column(str, [\n",
    "            Check.str_contains(pattern=\"value\"),\n",
    "            Check(lambda s: s.str.startswith(\"value\")),\n",
    "            Check(lambda s: s.str.split(\"_\", expand=True).shape[1] == 2)\n",
    "        ])\n",
    "    },\n",
    "    index=Index(int),\n",
    "    strict=False,\n",
    "    coerce=True,\n",
    ")\n",
    "\n",
    "df = pd.DataFrame({\n",
    "    \"column1\": [1, 2, 3, 4, 5],\n",
    "    \"column2\": [-1, -2.0, -3.0, -4.1, -5.2],\n",
    "    \"column3\": [\"value_1\", \"value_2\", \"value_3\", \"value_4\", \"value_5\"],\n",
    "})"
   ]
  },
  {
   "cell_type": "code",
   "execution_count": 73,
   "id": "e3e4b5d1-c9e5-48db-a2b8-ffec4a6704bd",
   "metadata": {},
   "outputs": [
    {
     "name": "stdout",
     "output_type": "stream",
     "text": [
      "<Schema Column(name=column1, type=<class 'int'>)> failed element-wise validator 0:\n",
      "<Check equal_to: equal_to(1)>\n",
      "failure cases:\n",
      "   index  failure_case\n",
      "0      1             2\n",
      "1      2             3\n",
      "2      3             4\n",
      "3      4             5\n"
     ]
    }
   ],
   "source": [
    "# 1個目のvalidationが失敗に終わると、その時点でerrors.SchemaErrorを返してしまう。\n",
    "try:\n",
    "    strict_schema.validate(df)\n",
    "except pa.errors.SchemaError as err:\n",
    "    print(err)\n"
   ]
  },
  {
   "cell_type": "code",
   "execution_count": 74,
   "id": "83baf69a-da4f-4958-9dfc-33388263f389",
   "metadata": {},
   "outputs": [
    {
     "name": "stdout",
     "output_type": "stream",
     "text": [
      "A total of 4 schema errors were found.\n",
      "\n",
      "Error Counts\n",
      "------------\n",
      "- schema_component_check: 4\n",
      "\n",
      "Schema Error Summary\n",
      "--------------------\n",
      "                                                               failure_cases  n_failure_cases\n",
      "schema_context column  check                                                                 \n",
      "Column         column1 equal_to(1)                      [2.0, 3.0, 4.0, 5.0]                4\n",
      "                       isin({1, 2, 3, 4})                              [5.0]                1\n",
      "               column2 values should be less than -1.2                [-1.0]                1\n",
      "\n",
      "Usage Tip\n",
      "---------\n",
      "\n",
      "Directly inspect all errors by catching the exception:\n",
      "\n",
      "```\n",
      "try:\n",
      "    schema.validate(dataframe, lazy=True)\n",
      "except SchemaErrors as err:\n",
      "    err.failure_cases  # dataframe of schema errors\n",
      "    err.data  # invalid dataframe\n",
      "```\n",
      "\n"
     ]
    }
   ],
   "source": [
    "try:\n",
    "    # lazy=Trueにすることで、1個エラーが発生したとしても複数validation結果を返してくれる\n",
    "    # https://pandera.readthedocs.io/en/v0.4.0/lazy_validation.html\n",
    "    strict_schema.validate(df, lazy=True)\n",
    "except pa.errors.SchemaErrors as err:\n",
    "    print(err)\n"
   ]
  },
  {
   "cell_type": "markdown",
   "id": "c16e102c-6d8b-464e-a36a-ef0dda8269e7",
   "metadata": {},
   "source": [
    "## Hypothesis\n",
    "\n",
    "- 以下では、平均値が、train時と同じ分布とは思えないくらいズレているよ！という検定をするために\n",
    "`t検定`と呼ばれる統計的検定をします！"
   ]
  },
  {
   "cell_type": "code",
   "execution_count": 76,
   "id": "3a6aa7b2-aa7c-4e08-a28d-5b59fb12a7e6",
   "metadata": {},
   "outputs": [],
   "source": [
    "import scipy\n",
    "from scipy import stats"
   ]
  },
  {
   "cell_type": "code",
   "execution_count": 77,
   "id": "5875cb8a-f975-40fa-890b-21a0ad4c272b",
   "metadata": {},
   "outputs": [
    {
     "name": "stdout",
     "output_type": "stream",
     "text": [
      "t-検定統計量: 51.097011312528494 \n",
      " p値: 0.0\n"
     ]
    },
    {
     "data": {
      "text/html": [
       "<div>\n",
       "<style scoped>\n",
       "    .dataframe tbody tr th:only-of-type {\n",
       "        vertical-align: middle;\n",
       "    }\n",
       "\n",
       "    .dataframe tbody tr th {\n",
       "        vertical-align: top;\n",
       "    }\n",
       "\n",
       "    .dataframe thead th {\n",
       "        text-align: right;\n",
       "    }\n",
       "</style>\n",
       "<table border=\"1\" class=\"dataframe\">\n",
       "  <thead>\n",
       "    <tr style=\"text-align: right;\">\n",
       "      <th></th>\n",
       "      <th>height_in_feet</th>\n",
       "      <th>group</th>\n",
       "    </tr>\n",
       "  </thead>\n",
       "  <tbody>\n",
       "    <tr>\n",
       "      <th>0</th>\n",
       "      <td>12.462700</td>\n",
       "      <td>A</td>\n",
       "    </tr>\n",
       "    <tr>\n",
       "      <th>1</th>\n",
       "      <td>10.814572</td>\n",
       "      <td>A</td>\n",
       "    </tr>\n",
       "    <tr>\n",
       "      <th>2</th>\n",
       "      <td>15.586530</td>\n",
       "      <td>A</td>\n",
       "    </tr>\n",
       "    <tr>\n",
       "      <th>3</th>\n",
       "      <td>13.157925</td>\n",
       "      <td>A</td>\n",
       "    </tr>\n",
       "    <tr>\n",
       "      <th>4</th>\n",
       "      <td>11.035250</td>\n",
       "      <td>A</td>\n",
       "    </tr>\n",
       "    <tr>\n",
       "      <th>...</th>\n",
       "      <td>...</td>\n",
       "      <td>...</td>\n",
       "    </tr>\n",
       "    <tr>\n",
       "      <th>1995</th>\n",
       "      <td>6.579795</td>\n",
       "      <td>B</td>\n",
       "    </tr>\n",
       "    <tr>\n",
       "      <th>1996</th>\n",
       "      <td>11.946367</td>\n",
       "      <td>B</td>\n",
       "    </tr>\n",
       "    <tr>\n",
       "      <th>1997</th>\n",
       "      <td>7.962770</td>\n",
       "      <td>B</td>\n",
       "    </tr>\n",
       "    <tr>\n",
       "      <th>1998</th>\n",
       "      <td>6.888846</td>\n",
       "      <td>B</td>\n",
       "    </tr>\n",
       "    <tr>\n",
       "      <th>1999</th>\n",
       "      <td>11.895114</td>\n",
       "      <td>B</td>\n",
       "    </tr>\n",
       "  </tbody>\n",
       "</table>\n",
       "<p>2000 rows × 2 columns</p>\n",
       "</div>"
      ],
      "text/plain": [
       "      height_in_feet group\n",
       "0          12.462700     A\n",
       "1          10.814572     A\n",
       "2          15.586530     A\n",
       "3          13.157925     A\n",
       "4          11.035250     A\n",
       "...              ...   ...\n",
       "1995        6.579795     B\n",
       "1996       11.946367     B\n",
       "1997        7.962770     B\n",
       "1998        6.888846     B\n",
       "1999       11.895114     B\n",
       "\n",
       "[2000 rows x 2 columns]"
      ]
     },
     "execution_count": 77,
     "metadata": {},
     "output_type": "execute_result"
    }
   ],
   "source": [
    "# hypoを使って分布の変化を捉えよう。\n",
    "\n",
    "def custom_ttest(array_1, array_2):\n",
    "    stat, pvalue = scipy.stats.ttest_ind(array_1, array_2)\n",
    "    print(\"t-検定統計量:\", stat, \"\\n p値:\", pvalue)\n",
    "    return stat, pvalue\n",
    "\n",
    "\n",
    "def debug_rel(stat, pvalue, alpha=0.1):\n",
    "    \"\"\"\n",
    "    stat: 検定統計量\n",
    "    pvalue: p-値(帰無仮説が正しいとしたときに、どれだけレアなケースが実データで起きてしまったのかを表す確率)\n",
    "    \"\"\"\n",
    "    # import pdb; pdb.set_trace()\n",
    "    # 両側検定のpvalueなので、1/2にして有意水準alphaと比較します。\n",
    "    #超えていない = 帰無仮説（A, B群で平均値が等しいとする仮説）が確率alphaしか起きないめっちゃ珍しい事象であると推論できると言うこと。\n",
    "    return stat > 0 and pvalue / 2 < alpha\n",
    "\n",
    "\n",
    "schema = pa.DataFrameSchema({\n",
    "     \"height_in_feet\": pa.Column(pa.Float, [\n",
    "         pa.Hypothesis(\n",
    "             test=custom_ttest,\n",
    "             samples=[\"A\", \"B\"],\n",
    "             groupby=\"group\",\n",
    "             # assert that the mean height of group \"A\" is greater\n",
    "             # than that of group \"B\"\n",
    "             relationship=lambda stat, pvalue, alpha: (\n",
    "                 stat > 0 and pvalue / 2 < alpha\n",
    "             ),\n",
    "             # set alpha criterion to 1%\n",
    "             relationship_kwargs={\"alpha\": 0.01},\n",
    "             error=\"2群の平均値が有意に異なると言えません。\"\n",
    "         )\n",
    "     ]),\n",
    "     \"group\": pa.Column(pa.String),\n",
    " })\n",
    "sample_size = 1000\n",
    "df = (\n",
    "     pd.DataFrame({\n",
    "         \"id\": range(sample_size * 2),\n",
    "         \"group\": [\"A\"] * sample_size + [\"B\"] * sample_size,\n",
    "         \"height_in_feet\": np.r_[np.random.uniform(low=10, high=16, size=sample_size), \n",
    "                                 np.random.uniform(low=6, high=12, size=sample_size)],\n",
    "\n",
    "\n",
    "     })\n",
    " )\n",
    "schema.validate(df)[[\"height_in_feet\", \"group\"]]"
   ]
  },
  {
   "cell_type": "markdown",
   "id": "59d58472-d310-4804-90ec-ada6e2792abe",
   "metadata": {},
   "source": [
    "かなり稚拙なコードですが、A/Bのグループが近づいてくると、t検定が棄却できなくなってきて（A, B群で平均値が等しいとする仮説が珍しいとはいえない）validation failedになります。"
   ]
  },
  {
   "cell_type": "code",
   "execution_count": 82,
   "id": "5d17fddd-9c02-47b4-b18b-b652c947274a",
   "metadata": {},
   "outputs": [
    {
     "name": "stdout",
     "output_type": "stream",
     "text": [
      "t-検定統計量: 5.4338683379473265 \n",
      " p値: 4.028086919116797e-07\n",
      "passed for 0.0\n",
      "t-検定統計量: 2.535702602393236 \n",
      " p値: 0.012803003399041332\n",
      "passed for 0.4\n",
      "t-検定統計量: 4.078460057066638 \n",
      " p値: 9.23577177427666e-05\n",
      "passed for 0.8\n",
      "t-検定統計量: 2.919646010312091 \n",
      " p値: 0.004347929225230588\n",
      "passed for 1.2000000000000002\n",
      "t-検定統計量: 3.793530611669863 \n",
      " p値: 0.00025705567348883047\n",
      "passed for 1.6\n",
      "t-検定統計量: 0.3488181682402316 \n",
      " p値: 0.7279741328947638\n",
      "<Schema Column(name=height_in_feet, type=float)> failed series or dataframe validator 0:\n",
      "<Check _hypothesis_check: 2群の平均値が有意に異なると言えません。>\n"
     ]
    },
    {
     "data": {
      "image/png": "[encoded data removed]",
      "text/plain": [
       "<Figure size 432x288 with 1 Axes>"
      ]
     },
     "metadata": {
      "needs_background": "light"
     },
     "output_type": "display_data"
    },
    {
     "data": {
      "image/png": "[encoded data removed]",
      "text/plain": [
       "<Figure size 402.875x360 with 1 Axes>"
      ]
     },
     "metadata": {
      "needs_background": "light"
     },
     "output_type": "display_data"
    },
    {
     "data": {
      "image/png": "[encoded data removed]",
      "text/plain": [
       "<Figure size 402.875x360 with 1 Axes>"
      ]
     },
     "metadata": {
      "needs_background": "light"
     },
     "output_type": "display_data"
    },
    {
     "data": {
      "image/png": "[encoded data removed]",
      "text/plain": [
       "<Figure size 402.875x360 with 1 Axes>"
      ]
     },
     "metadata": {
      "needs_background": "light"
     },
     "output_type": "display_data"
    },
    {
     "data": {
      "image/png": "[encoded data removed]",
      "text/plain": [
       "<Figure size 402.875x360 with 1 Axes>"
      ]
     },
     "metadata": {
      "needs_background": "light"
     },
     "output_type": "display_data"
    },
    {
     "data": {
      "image/png": "[encoded data removed]",
      "text/plain": [
       "<Figure size 402.875x360 with 1 Axes>"
      ]
     },
     "metadata": {
      "needs_background": "light"
     },
     "output_type": "display_data"
    }
   ],
   "source": [
    "sample_size = 50\n",
    "\n",
    "for diff in np.linspace(0, 4, num=11):\n",
    "    df = (\n",
    "         pd.DataFrame({\n",
    "             \"id\": range(sample_size * 2),\n",
    "             \"group\": [\"A\"] * sample_size + [\"B\"] * sample_size,\n",
    "             \"height_in_feet\": np.r_[np.random.uniform(low=10 - diff, high=16 - diff, size=sample_size), \n",
    "                                     np.random.uniform(low=8, high=14, size=sample_size)],\n",
    "\n",
    "\n",
    "         })\n",
    "     )\n",
    "    \n",
    "    try:\n",
    "        schema.validate(df)[[\"height_in_feet\", \"group\"]]\n",
    "        print(f\"passed for {diff}\")\n",
    "        plt.title(f\"A's height_in_feet draws from Uniform({10 - diff}, {16 - diff})\")\n",
    "        sns.displot(data=df, x=\"height_in_feet\", hue=\"group\")\n",
    "    except pa.errors.SchemaError as err:\n",
    "        print(err)\n",
    "        \n",
    "        break"
   ]
  },
  {
   "cell_type": "code",
   "execution_count": null,
   "id": "d88d4c73-e9ca-4313-be53-47153b8a2bc0",
   "metadata": {},
   "outputs": [],
   "source": []
  },
  {
   "cell_type": "code",
   "execution_count": null,
   "id": "63ad43ad-d7bb-4e66-b0cf-291c3db79b77",
   "metadata": {},
   "outputs": [],
   "source": []
  },
  {
   "cell_type": "markdown",
   "id": "94c1357e",
   "metadata": {},
   "source": [
    "## datetime型もちゃんと扱える。\n",
    "- これをちゃんと実装すれば、いちいちpd.to_datetime(*)実装せずに、coerceでvalidate&型変換しても良いかもしれないですね。\n",
    "(*)kaggleとかでデータ分析するときに大抵文字列のtimestampをdatetime変換するときに愛用しています。\n",
    "\n",
    "- ただ、pa.DataFrameSchemaでは、tz-awareな型を指定することはできなさそうです。"
   ]
  },
  {
   "cell_type": "code",
   "execution_count": 87,
   "id": "249d01ac",
   "metadata": {},
   "outputs": [],
   "source": [
    "# alerted_at: Series[pd.DatetimeTZDtype] = pa.Field(dtype_kwargs={\"unit\": \"ns\", \"tz\": \"UTC\"})\n",
    "\n",
    "datetime_schema = pa.DataFrameSchema({\n",
    "    \"column1\": pa.Column(\n",
    "        pandas_dtype=pa.DateTime,\n",
    "    ), \n",
    "})\n"
   ]
  },
  {
   "cell_type": "code",
   "execution_count": 88,
   "id": "53d4241a",
   "metadata": {},
   "outputs": [],
   "source": [
    "datetime_schema.to_yaml(\"datetime.yaml\")"
   ]
  },
  {
   "cell_type": "code",
   "execution_count": null,
   "id": "1af520e8",
   "metadata": {},
   "outputs": [],
   "source": []
  }
 ],
 "metadata": {
  "kernelspec": {
   "display_name": "Python 3 (ipykernel)",
   "language": "python",
   "name": "python3"
  },
  "language_info": {
   "codemirror_mode": {
    "name": "ipython",
    "version": 3
   },
   "file_extension": ".py",
   "mimetype": "text/x-python",
   "name": "python",
   "nbconvert_exporter": "python",
   "pygments_lexer": "ipython3",
   "version": "3.9.7"
  }
 },
 "nbformat": 4,
 "nbformat_minor": 5
}
